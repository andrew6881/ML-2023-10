{
  "nbformat": 4,
  "nbformat_minor": 0,
  "metadata": {
    "colab": {
      "provenance": [],
      "authorship_tag": "ABX9TyNsOK2u3GZnPi5WKUmXbAem",
      "include_colab_link": true
    },
    "kernelspec": {
      "name": "python3",
      "display_name": "Python 3"
    },
    "language_info": {
      "name": "python"
    }
  },
  "cells": [
    {
      "cell_type": "markdown",
      "metadata": {
        "id": "view-in-github",
        "colab_type": "text"
      },
      "source": [
        "<a href=\"https://colab.research.google.com/github/andrew6881/ML-2023-10/blob/main/Student_Summary_Competition.ipynb\" target=\"_parent\"><img src=\"https://colab.research.google.com/assets/colab-badge.svg\" alt=\"Open In Colab\"/></a>"
      ]
    },
    {
      "cell_type": "code",
      "execution_count": null,
      "metadata": {
        "id": "zuwDDlodN7Zo"
      },
      "outputs": [],
      "source": [
        "import tensorflow as tf\n",
        "import sklearn\n",
        "from sklearn.model_selection import train_test_split\n",
        "\n",
        "import numpy as np\n",
        "import matplotlib.pyplot as plt\n",
        "\n",
        "import torch\n",
        "import torchvision\n",
        "import torch.nn as nn\n",
        "import torchvision.transforms as transforms\n",
        "\n",
        "import keras\n",
        "import random\n",
        "\n",
        "import pandas as pd\n",
        "\n",
        "from keras.models import load_model\n",
        "\n",
        "from tensorflow.keras.preprocessing.text import Tokenizer\n",
        "from tensorflow.keras.preprocessing.sequence import pad_sequences\n",
        "\n",
        "import seaborn as sns\n",
        "\n",
        "%matplotlib inline"
      ]
    },
    {
      "cell_type": "markdown",
      "source": [
        "Link to blog post: https://medium.com/geekculture/nlp-with-tensorflow-keras-explanation-and-tutorial-cae3554b1290\n",
        "\n",
        "Link to blog post on improving model: https://medium.com/@jeevanchavan143/nlp-tokenization-stemming-lemmatization-bag-of-words-tf-idf-pos-7650f83c60be\n",
        "\n",
        "Kaggle competition page: https://www.kaggle.com/code/ryanholbrook/evaluate-student-summaries-efficiency-lb"
      ],
      "metadata": {
        "id": "XsjCF8FugS1D"
      }
    },
    {
      "cell_type": "code",
      "source": [
        "from google.colab import files\n",
        "from IPython.utils import io\n",
        "import os\n",
        "os.system(\"mkdir -p ~/.kaggle\")\n",
        "os.system(\"cp kaggle.json ~/.kaggle/\")\n",
        "os.system(\"chmod 600 ~/.kaggle/kaggle.json\")\n",
        "# Place API command below to download your dataset\n",
        "!kaggle competitions download -c commonlit-evaluate-student-summaries\n",
        "\n",
        "# Use this code below to unzip any zip files contained in your dataset\n",
        "with io.capture_output() as captured:\n",
        "    !unzip commonlit-evaluate-student-summaries.zip"
      ],
      "metadata": {
        "colab": {
          "base_uri": "https://localhost:8080/"
        },
        "id": "YEwNZhdsOTph",
        "outputId": "ebfeadf6-2dad-4b7b-ddae-b99ebe81c0f3"
      },
      "execution_count": null,
      "outputs": [
        {
          "output_type": "stream",
          "name": "stdout",
          "text": [
            "commonlit-evaluate-student-summaries.zip: Skipping, found more recently modified local copy (use --force to force download)\n"
          ]
        }
      ]
    },
    {
      "cell_type": "code",
      "source": [
        "prompts_test = pd.read_csv(\"prompts_test.csv\")\n",
        "prompts_train = pd.read_csv(\"prompts_train.csv\")\n",
        "sample_submission = pd.read_csv(\"sample_submission.csv\")\n",
        "summaries_test = pd.read_csv(\"summaries_test.csv\")\n",
        "summaries_train = pd.read_csv(\"summaries_train.csv\") # length 7165"
      ],
      "metadata": {
        "id": "HnxqWIhkPmqi"
      },
      "execution_count": null,
      "outputs": []
    },
    {
      "cell_type": "code",
      "source": [
        "from keras.src.utils.text_dataset import dataset_utils\n",
        "def get_submission(data):\n",
        "    tweets = data[\"text\"]\n",
        "    labels = data[\"wording\"] #2d array\n",
        "    return tweets, labels\n",
        "texts, labels = get_submission(summaries_train)"
      ],
      "metadata": {
        "id": "3JCqEpotMdjB"
      },
      "execution_count": null,
      "outputs": []
    },
    {
      "cell_type": "code",
      "source": [
        "print(summaries_train.head())"
      ],
      "metadata": {
        "colab": {
          "base_uri": "https://localhost:8080/"
        },
        "id": "1haiCkq9aQCj",
        "outputId": "f17ee726-efed-415d-d902-69c486985ccc"
      },
      "execution_count": null,
      "outputs": [
        {
          "output_type": "stream",
          "name": "stdout",
          "text": [
            "     student_id prompt_id                                               text  \\\n",
            "0  000e8c3c7ddb    814d6b  The third wave was an experimentto see how peo...   \n",
            "1  0020ae56ffbf    ebad26  They would rub it up with soda to make the sme...   \n",
            "2  004e978e639e    3b9047  In Egypt, there were many occupations and soci...   \n",
            "3  005ab0199905    3b9047  The highest class was Pharaohs these people we...   \n",
            "4  0070c9e7af47    814d6b  The Third Wave developed  rapidly because the ...   \n",
            "\n",
            "    content   wording  \n",
            "0  0.205683  0.380538  \n",
            "1 -0.548304  0.506755  \n",
            "2  3.128928  4.231226  \n",
            "3 -0.210614 -0.471415  \n",
            "4  3.272894  3.219757  \n"
          ]
        }
      ]
    },
    {
      "cell_type": "code",
      "source": [
        "# split training into training and validation\n",
        "X = summaries_train[\"text\"]\n",
        "y = summaries_train[\"wording\"] # prediction target\n",
        "X_train, X_valid, y_train, y_valid = train_test_split(X, y, test_size = 0.125, random_state = 1)\n",
        "\n",
        "\"\"\"\n",
        "train = pd.concat(\"prompts_train.\")\n",
        "test = pd.concat(\"prompts_test.csv\", \"summaries_test.csv\") # concat based on prompt id\n",
        "print(test)\"\"\""
      ],
      "metadata": {
        "colab": {
          "base_uri": "https://localhost:8080/",
          "height": 52
        },
        "id": "ue6hvt1UVASJ",
        "outputId": "a8d89155-c89c-4416-9d8b-8aee3d9df6c9"
      },
      "execution_count": null,
      "outputs": [
        {
          "output_type": "execute_result",
          "data": {
            "text/plain": [
              "'\\ntrain = pd.concat(\"prompts_train.\")\\ntest = pd.concat(\"prompts_test.csv\", \"summaries_test.csv\") # concat based on prompt id\\nprint(test)'"
            ],
            "application/vnd.google.colaboratory.intrinsic+json": {
              "type": "string"
            }
          },
          "metadata": {},
          "execution_count": 71
        }
      ]
    },
    {
      "cell_type": "code",
      "source": [
        "# tokenize each text\n",
        "\n",
        "texts = [text for text in X_train]\n",
        "\n",
        "tokenizer = Tokenizer(num_words=650, oov_token='<UNK>')\n",
        "tokenizer.fit_on_texts(texts)\n",
        "\n",
        "maxlen = 650\n",
        "def get_sequences(tokenizer, texts):\n",
        "    sequences = tokenizer.texts_to_sequences(texts)\n",
        "    padded = pad_sequences(sequences, truncating = 'post', padding='post', maxlen=maxlen)\n",
        "    return padded"
      ],
      "metadata": {
        "id": "I1X2R0oIbx_S"
      },
      "execution_count": null,
      "outputs": []
    },
    {
      "cell_type": "code",
      "source": [
        "a = max(X_train, key = lambda x: len(x.split()))\n",
        "len(a.split())"
      ],
      "metadata": {
        "colab": {
          "base_uri": "https://localhost:8080/"
        },
        "id": "hopX_UaMfdAO",
        "outputId": "59c89e51-dede-4394-8b2a-bb9765533f48"
      },
      "execution_count": null,
      "outputs": [
        {
          "output_type": "execute_result",
          "data": {
            "text/plain": [
              "647"
            ]
          },
          "metadata": {},
          "execution_count": 73
        }
      ]
    },
    {
      "cell_type": "code",
      "source": [
        "padded_train_seq = get_sequences(tokenizer, texts)"
      ],
      "metadata": {
        "id": "nFzFO0zIeYAZ"
      },
      "execution_count": null,
      "outputs": []
    },
    {
      "cell_type": "code",
      "source": [
        "targets = \"wording\"\n",
        "\n",
        "model = tf.keras.models.Sequential([\n",
        "tf.keras.layers.Embedding(10000,16,input_length=maxlen),\n",
        "tf.keras.layers.Bidirectional(tf.keras.layers.LSTM(20, return_sequences=True)),\n",
        "tf.keras.layers.Bidirectional(tf.keras.layers.LSTM(20)),\n",
        "tf.keras.layers.Dense(1, activation='linear')\n",
        "])\n",
        "\n",
        "model.compile(\n",
        "     loss='mean_squared_error',\n",
        "     optimizer='adam',\n",
        "     metrics=['accuracy']\n",
        ")"
      ],
      "metadata": {
        "id": "tppBV1kFKmua"
      },
      "execution_count": null,
      "outputs": []
    },
    {
      "cell_type": "code",
      "source": [
        "val_seq = get_sequences(tokenizer, X_valid)\n",
        "val_labels= targets\n",
        "h = model.fit(\n",
        "     padded_train_seq, y_train,\n",
        "     validation_data=(val_seq, y_valid),\n",
        "     epochs=20,\n",
        "     callbacks=[tf.keras.callbacks.EarlyStopping(monitor='val_accuracy', patience=4)]\n",
        ")"
      ],
      "metadata": {
        "colab": {
          "base_uri": "https://localhost:8080/"
        },
        "id": "i4GT6670Liw-",
        "outputId": "bb406b57-39f4-495e-cba1-7064425197f9"
      },
      "execution_count": null,
      "outputs": [
        {
          "output_type": "stream",
          "name": "stdout",
          "text": [
            "Epoch 1/20\n",
            "196/196 [==============================] - 214s 1s/step - loss: 0.7147 - accuracy: 0.0000e+00 - val_loss: 0.4662 - val_accuracy: 0.0000e+00\n",
            "Epoch 2/20\n",
            "196/196 [==============================] - 192s 980ms/step - loss: 0.4507 - accuracy: 0.0000e+00 - val_loss: 0.4134 - val_accuracy: 0.0000e+00\n",
            "Epoch 3/20\n",
            "196/196 [==============================] - 192s 981ms/step - loss: 0.4154 - accuracy: 0.0000e+00 - val_loss: 0.3842 - val_accuracy: 0.0000e+00\n",
            "Epoch 4/20\n",
            "196/196 [==============================] - 198s 1s/step - loss: 0.3865 - accuracy: 0.0000e+00 - val_loss: 0.3777 - val_accuracy: 0.0000e+00\n",
            "Epoch 5/20\n",
            "196/196 [==============================] - 192s 980ms/step - loss: 0.3743 - accuracy: 0.0000e+00 - val_loss: 0.3901 - val_accuracy: 0.0000e+00\n"
          ]
        }
      ]
    },
    {
      "cell_type": "code",
      "source": [
        "results = model.predict(val_seq)"
      ],
      "metadata": {
        "colab": {
          "base_uri": "https://localhost:8080/"
        },
        "id": "AQhxMqDJP-MS",
        "outputId": "d447e03b-8210-4eff-c7e9-28e1e8189887"
      },
      "execution_count": null,
      "outputs": [
        {
          "output_type": "stream",
          "name": "stdout",
          "text": [
            "28/28 [==============================] - 7s 178ms/step\n"
          ]
        }
      ]
    },
    {
      "cell_type": "code",
      "source": [
        "print(results[:,0])"
      ],
      "metadata": {
        "id": "XdFZ-4ABWZ5u"
      },
      "execution_count": null,
      "outputs": []
    },
    {
      "cell_type": "code",
      "source": [
        "# plot results against y_valid\n",
        "sns.scatterplot(x = results[:,0], y = y_valid)"
      ],
      "metadata": {
        "colab": {
          "base_uri": "https://localhost:8080/",
          "height": 447
        },
        "id": "tmiKCwVMOxJL",
        "outputId": "0342348f-7094-4b59-a542-18935d8a110b"
      },
      "execution_count": null,
      "outputs": [
        {
          "output_type": "execute_result",
          "data": {
            "text/plain": [
              "<Axes: ylabel='wording'>"
            ]
          },
          "metadata": {},
          "execution_count": 84
        },
        {
          "output_type": "display_data",
          "data": {
            "text/plain": [
              "<Figure size 640x480 with 1 Axes>"
            ],
            "image/png": "[encoded data removed]"
          },
          "metadata": {}
        }
      ]
    }
  ]
}